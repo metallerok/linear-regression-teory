{
 "cells": [
  {
   "cell_type": "markdown",
   "metadata": {},
   "source": [
    "### Линейная регрессия"
   ]
  },
  {
   "cell_type": "code",
   "execution_count": 2,
   "metadata": {},
   "outputs": [],
   "source": [
    "from __future__ import division, print_function\n",
    "import warnings\n",
    "warnings.filterwarnings('ignore')\n",
    "import numpy as np\n",
    "%matplotlib inline\n",
    "import matplotlib.pyplot as plt"
   ]
  },
  {
   "cell_type": "markdown",
   "metadata": {},
   "source": [
    "Пусть у нас есть набор значений `y` зависящий от параметра `x`"
   ]
  },
  {
   "cell_type": "code",
   "execution_count": 75,
   "metadata": {},
   "outputs": [
    {
     "data": {
      "image/png": "[encoded data removed]",
      "text/plain": [
       "<Figure size 432x288 with 1 Axes>"
      ]
     },
     "metadata": {
      "needs_background": "light"
     },
     "output_type": "display_data"
    }
   ],
   "source": [
    "rand = np.random.RandomState(42)\n",
    "data = rand.multivariate_normal([0, 0], [[1, 2], [2,3]], 30)\n",
    "plt.scatter(data[:, 0], data[:, 1], cmap=plt.cm.Paired);\n",
    "plt.plot([-3, 3], [-3, 3.5]); # Возможный вариант решения задачи"
   ]
  },
  {
   "cell_type": "markdown",
   "metadata": {},
   "source": [
    "И мы хотим построить линейную функцию $y_{i}=kx_{i} + b $ так, чтобы **сумма квадратов отклоненй** была **наименьшая**"
   ]
  },
  {
   "cell_type": "markdown",
   "metadata": {},
   "source": [
    "$ S(k, b) = \\sum_{i=1}^n(y_{i} - kx_{i} - b)^2 \\rightarrow min $, \n",
    "\n",
    "$y_{i}\\$ - фактическое значение, \n",
    "\n",
    "$kx_{i} - b$ - предсказанное\n",
    "\n",
    "т.е задача сводится к нахождению коэфициентов `k` и `b`\n",
    "\n",
    "`k` - угловой коэфициент\n",
    "\n",
    "`b` - смещение"
   ]
  },
  {
   "cell_type": "markdown",
   "metadata": {},
   "source": [
    "Найдем частные производные по `k` и `b`:\n",
    "\n",
    "$S_{k}^\\prime = -2x_{i}\\sum_{i=1}^n(y_{i} - kx_{i} - b)$\n",
    "\n",
    "$S_{b}^\\prime = -x_{i}\\sum_{i=1}^n(y_{i} - kx_{i} - b)$"
   ]
  },
  {
   "cell_type": "markdown",
   "metadata": {},
   "source": [
    "Получаем систему алгебраических уравнений:\n",
    "\n",
    "$\n",
    "\\begin{cases}\n",
    "-2x_{i}\\sum_{i=1}^n(y_{i} - kx_{i} - b) = 0 \\\\\n",
    "-x_{i}\\sum_{i=1}^n(y_{i} - kx_{i} - b) = 0\n",
    "\\end{cases}\n",
    "$\n",
    "\n",
    "Делим на 2 и раскрываем сумму:\n",
    "\n",
    "$\n",
    "\\begin{cases}\n",
    "- \\sum x_{i}y_{i} + k\\sum x_{i}^2 + b\\sum x_{i} = 0  \\\\\n",
    "- \\sum y_{i} + k\\sum x_{i} + bn = 0\n",
    "\\end{cases}\n",
    "$"
   ]
  },
  {
   "cell_type": "markdown",
   "metadata": {},
   "source": [
    "Перенесем известные в правую часть:\n",
    "\n",
    "$\n",
    "\\begin{cases}\n",
    " k\\sum x_{i}^2 + b\\sum x_{i} = \\sum x_{i}y_{i} \\\\\n",
    " k\\sum x_{i} + bn = \\sum y_{i}\n",
    "\\end{cases}\n",
    "$\n",
    "\n",
    "Поделим оба уравнение на `n` - количество элементов в выборке:\n",
    "\n",
    "$\n",
    "\\begin{cases}\n",
    " k\\frac{\\sum x_{i}^2}{n} + b\\frac{\\sum x_{i}}{n} = \\frac{\\sum x_{i}y_{i}}{n} \\\\\n",
    " k\\frac{\\sum x_{i}}{n} + b = \\frac{\\sum y_{i}}{n}\n",
    "\\end{cases}\n",
    "$\n",
    "\n",
    "В результате получим слагаемые в виде **среднего квадрата x**, **среднего x**, **среднего произведения xy** и т.д:\n",
    "\n",
    "$\n",
    "\\begin{cases}\n",
    " k\\overline{x^2} + b\\overline{x} = \\overline{xy} \\\\\n",
    " k\\overline{x} + b = \\overline{y}\n",
    "\\end{cases}\n",
    "$"
   ]
  },
  {
   "cell_type": "markdown",
   "metadata": {},
   "source": [
    "Выразим `b`:\n",
    "    \n",
    "$ b = \\overline{y} - k\\overline{x}$\n",
    "\n",
    "Подставим в первое уравнение:\n",
    "\n",
    "$ k\\overline{x^2} + \\overline{x}(\\overline{y} - k\\overline{x}) = \\overline{xy} $\n",
    "\n",
    "Раскроем скобки:\n",
    "\n",
    "$ k\\overline{x^2} + \\overline{x}\\overline{y} - k(\\overline{x})^2 = \\overline{xy} $\n",
    "\n",
    "Выражем из этого `k`:\n",
    "\n",
    "$ k = \\frac{\\overline{xy} - \\overline{x} * \\overline{y}}{\\overline{x^2} - (\\overline{x})^2} $\n",
    "\n",
    "\n",
    "\n",
    "Значение в знаменателе это Дисперсия (средний квадрат отклонения от среднего значения $ D_{x} = \\frac{\\sum_{i=1}^n(x_{i} - \\overline{x})^2}{n} $):\n",
    "\n",
    "$ D_{x} = \\overline{x^2} - (\\overline{x})^2 $\n",
    "\n",
    "Значение в числителе это Ковариация ($ COV_{xy} = \\frac{\\sum_{i=1}^n[(x_{i} - \\overline{x})(y_{i} - \\overline{y})]}{n} $):\n",
    "\n",
    "$ COV_{xy} = \\overline{xy} - \\overline{x} * \\overline{y} $\n",
    "\n",
    "Получается что `k` это:\n",
    "\n",
    "$ k = \\frac{COV_{xy}}{D_{x}} $"
   ]
  },
  {
   "cell_type": "markdown",
   "metadata": {},
   "source": [
    "#### Пример"
   ]
  },
  {
   "cell_type": "markdown",
   "metadata": {},
   "source": [
    "Возьмем данные зависимости роста от веса 10 человек"
   ]
  },
  {
   "cell_type": "code",
   "execution_count": 78,
   "metadata": {},
   "outputs": [],
   "source": [
    "h = np.array([1.67, 1.72, 1.58, 1.83, 1.91, 1.72, 1.68, 1.74, 1.68, 1.87]) # метры\n",
    "weight = np.array([58, 61, 55, 68, 77, 60, 57, 59, 60, 75]) # килограммы"
   ]
  },
  {
   "cell_type": "code",
   "execution_count": 79,
   "metadata": {},
   "outputs": [
    {
     "data": {
      "image/png": "[encoded data removed]",
      "text/plain": [
       "<Figure size 432x288 with 1 Axes>"
      ]
     },
     "metadata": {
      "needs_background": "light"
     },
     "output_type": "display_data"
    }
   ],
   "source": [
    "plt.scatter(weight, h, cmap=plt.cm.Paired);"
   ]
  },
  {
   "cell_type": "code",
   "execution_count": 84,
   "metadata": {},
   "outputs": [
    {
     "name": "stdout",
     "output_type": "stream",
     "text": [
      "Средний рост: 1.74, Средний вес: 63.0\n"
     ]
    }
   ],
   "source": [
    "h_avg = np.round(h.mean(), 2)\n",
    "w_avg = weight.mean()\n",
    "print(\"Средний рост: %s, Средний вес: %s\" % (h_avg, w_avg))"
   ]
  },
  {
   "cell_type": "code",
   "execution_count": 95,
   "metadata": {},
   "outputs": [
    {
     "name": "stdout",
     "output_type": "stream",
     "text": [
      "Дисперсия x: 0.00924, Среднеквадратичное отклонение x: 0.0961\n",
      "Дисперсия y: 52.8, Среднеквадратичное отклонение y: 7.2664\n"
     ]
    }
   ],
   "source": [
    "Dx = np.round(np.var(h), 5)\n",
    "std_x = np.round(np.std(h), 4)\n",
    "print(\"Дисперсия x: %s, Среднеквадратичное отклонение x: %s\" % (Dx, std_x))\n",
    "\n",
    "Dy = np.round(np.var(weight), 5)\n",
    "std_y = np.round(np.std(weight), 4)\n",
    "print(\"Дисперсия y: %s, Среднеквадратичное отклонение y: %s\" % (Dy, std_y))"
   ]
  },
  {
   "cell_type": "code",
   "execution_count": 103,
   "metadata": {},
   "outputs": [
    {
     "name": "stdout",
     "output_type": "stream",
     "text": [
      "Ковариация: 0.7400000000000001\n"
     ]
    }
   ],
   "source": [
    "cov = np.cov(h, weight)[0][1]\n",
    "print(\"Ковариация: %s\" % cov)"
   ]
  },
  {
   "cell_type": "markdown",
   "metadata": {},
   "source": [
    "Найдем теперь `k`\n",
    "\n",
    "$ k = \\frac{COV_{xy}}{D_{x}} $"
   ]
  },
  {
   "cell_type": "code",
   "execution_count": 106,
   "metadata": {},
   "outputs": [
    {
     "name": "stdout",
     "output_type": "stream",
     "text": [
      "80.0865800865801\n"
     ]
    }
   ],
   "source": [
    "k = cov / Dx\n",
    "print(k)"
   ]
  },
  {
   "cell_type": "markdown",
   "metadata": {},
   "source": [
    "Найдем `b`\n",
    "    \n",
    "$ b = \\overline{y} - k\\overline{x}$"
   ]
  },
  {
   "cell_type": "code",
   "execution_count": 131,
   "metadata": {},
   "outputs": [
    {
     "name": "stdout",
     "output_type": "stream",
     "text": [
      "-76.35064935064938\n"
     ]
    }
   ],
   "source": [
    "b = w_avg - (k * h_avg)\n",
    "print(b)"
   ]
  },
  {
   "cell_type": "markdown",
   "metadata": {},
   "source": [
    "Получается следующая линейная зависимость:"
   ]
  },
  {
   "cell_type": "code",
   "execution_count": 130,
   "metadata": {},
   "outputs": [
    {
     "data": {
      "image/png": "[encoded data removed]",
      "text/plain": [
       "<Figure size 432x288 with 1 Axes>"
      ]
     },
     "metadata": {
      "needs_background": "light"
     },
     "output_type": "display_data"
    }
   ],
   "source": [
    "plt.scatter(weight, h, cmap=plt.cm.Paired);\n",
    "t_h = np.arange(1.5, 2.1, .1)\n",
    "t_w = k * t_h + b\n",
    "plt.plot(t_w, t_h);"
   ]
  },
  {
   "cell_type": "markdown",
   "metadata": {},
   "source": [
    "Найдем значене ошибок для нашей выборки"
   ]
  },
  {
   "cell_type": "code",
   "execution_count": 133,
   "metadata": {},
   "outputs": [
    {
     "name": "stdout",
     "output_type": "stream",
     "text": [
      "[ 0.60606061 -0.3982684   4.81385281 -2.20779221  0.38528139 -1.3982684\n",
      " -1.19480519 -4.          1.80519481  1.58874459]\n"
     ]
    }
   ],
   "source": [
    "e = weight - (k * h + b)\n",
    "print(e)"
   ]
  },
  {
   "cell_type": "markdown",
   "metadata": {},
   "source": [
    "Вычислим Дисперсию отклонения\n",
    "\n",
    "$ D_{отк} = \\frac{\\sum_{i=1}^n e^2}{n - d} $, где d - количество параметров по которым мы описываем нашу плоскость"
   ]
  },
  {
   "cell_type": "code",
   "execution_count": 134,
   "metadata": {},
   "outputs": [
    {
     "name": "stdout",
     "output_type": "stream",
     "text": [
      "3.3887445887445935\n"
     ]
    }
   ],
   "source": [
    "e_ = e ** 2\n",
    "de = e_.sum()/len(e_) - 2\n",
    "print(de)"
   ]
  },
  {
   "cell_type": "markdown",
   "metadata": {},
   "source": [
    "#### Коэфициент линейной кореляции\n",
    "\n",
    "$ L = \\frac{COV_{xy}}{\\sqrt{D_{x}D_{y}}} $\n",
    "\n",
    "Если его значение около 0, то значит что зависимости между x и y практически нет"
   ]
  },
  {
   "cell_type": "code",
   "execution_count": 138,
   "metadata": {},
   "outputs": [
    {
     "name": "stdout",
     "output_type": "stream",
     "text": [
      "1.0594458713137431\n"
     ]
    }
   ],
   "source": [
    "L = cov / np.sqrt(Dx * Dy)\n",
    "print(L)"
   ]
  },
  {
   "cell_type": "code",
   "execution_count": null,
   "metadata": {},
   "outputs": [],
   "source": []
  }
 ],
 "metadata": {
  "kernelspec": {
   "display_name": "Python 3",
   "language": "python",
   "name": "python3"
  },
  "language_info": {
   "codemirror_mode": {
    "name": "ipython",
    "version": 3
   },
   "file_extension": ".py",
   "mimetype": "text/x-python",
   "name": "python",
   "nbconvert_exporter": "python",
   "pygments_lexer": "ipython3",
   "version": "3.6.8"
  }
 },
 "nbformat": 4,
 "nbformat_minor": 2
}
